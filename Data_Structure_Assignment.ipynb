{
  "nbformat": 4,
  "nbformat_minor": 0,
  "metadata": {
    "colab": {
      "provenance": []
    },
    "kernelspec": {
      "name": "python3",
      "display_name": "Python 3"
    },
    "language_info": {
      "name": "python"
    }
  },
  "cells": [
    {
      "cell_type": "code",
      "execution_count": null,
      "metadata": {
        "id": "2iUQlah7a5-0"
      },
      "outputs": [],
      "source": []
    },
    {
      "cell_type": "markdown",
      "source": [
        "#Data Structure"
      ],
      "metadata": {
        "id": "yJiDtrzTbGI8"
      }
    },
    {
      "cell_type": "markdown",
      "source": [
        "#1. What are data structures, and why are they important?\n",
        "- A data structure is a way of organizing, storing, and managing data in a computer so that it can be used efficiently. Examples include arrays, linked lists, stacks, queues, trees, graphs, and hash tables.\n",
        "\n",
        "**Why they are important:**\n",
        "\n",
        "Efficiency – The right data structure makes algorithms faster (e.g., searching with a hash table vs. a list).\n",
        "\n",
        "Data organization – They help structure complex data in a logical way (e.g., trees for hierarchical data).\n",
        "\n",
        "Memory management – Some data structures optimize memory usage (e.g., linked lists avoid resizing issues of arrays).\n",
        "\n",
        "Problem solving – Many algorithms rely on specific data structures (e.g., graphs for networking problems, queues for scheduling in OS).\n",
        "\n",
        "Foundation of computer science – They are essential in operating systems, compilers, databases, and virtually all software systems.\n",
        "\n"
      ],
      "metadata": {
        "id": "mge7HfI-butY"
      }
    },
    {
      "cell_type": "code",
      "source": [
        "#2. Explain the difference between mutable and immutable data types with examples?\n",
        "\n",
        "'''\n",
        "Mutable Data Types\n",
        "\n",
        "Definition: Objects whose content can be changed after creation.\n",
        "\n",
        "Examples:\n",
        "\n",
        "Python: list, dict, set\n",
        "\n",
        "'''\n",
        "nums = [1, 2, 3]\n",
        "nums.append(4)   # changes the list in place\n",
        "print(nums)  # [1, 2, 3, 4]\n",
        "\n",
        "'''Immutable Data Types\n",
        "\n",
        "Definition: Objects whose content cannot be changed once created. Any modification creates a new object.\n",
        "\n",
        "Examples:\n",
        "\n",
        "Python: int, float, str, tuple\n",
        "\n",
        "'''\n",
        "name = \"Suhas\"\n",
        "new_name = name + \"Expert\"\n",
        "print(name)      # \"Suhas\" (unchanged)\n",
        "print(new_name)  # \"SuhasExpert\" (new object created)\n",
        "\n",
        "\n",
        "#Key Difference\n",
        "\n",
        "#Mutable → can be modified in place (efficient for changes).\n",
        "\n",
        "#Immutable → safer for use in hashing, concurrency, and ensuring data integrity, since values can’t be altered accidentally.\n",
        "\n",
        "# In short: Mutable = changeable, Immutable = fixed once created.\n",
        "\n"
      ],
      "metadata": {
        "colab": {
          "base_uri": "https://localhost:8080/"
        },
        "id": "8BXfi2xBc2tS",
        "outputId": "da04b9f9-a851-4f0f-d7d9-8e15971e454e"
      },
      "execution_count": 80,
      "outputs": [
        {
          "output_type": "stream",
          "name": "stdout",
          "text": [
            "[1, 2, 3, 4]\n",
            "Suhas\n",
            "SuhasExpert\n"
          ]
        }
      ]
    },
    {
      "cell_type": "code",
      "source": [
        "#3. What are the main differences between lists and tuples in Python?\n",
        "\n",
        "'''\n",
        "Here’s a **clear side-by-side comparison**:\n",
        "\n",
        "### **Lists**\n",
        "\n",
        "* **Mutable** → can be modified (add, remove, change elements).\n",
        "* **Syntax** → `[ ]` square brackets.\n",
        "* **Use case** → when you need a collection that can change (e.g., dynamic data).\n",
        "* **Performance** → slightly slower than tuples (because of mutability overhead).\n",
        "\n",
        "Example:\n",
        "'''\n",
        "\n",
        "nums = [1, 2, 3]\n",
        "nums.append(4)\n",
        "print(nums)  # [1, 2, 3, 4]\n",
        "\n",
        "'''\n",
        "### **Tuples**\n",
        "\n",
        "* **Immutable** → cannot be modified once created.\n",
        "* **Syntax** → `( )` parentheses.\n",
        "* **Use case** → when you need a fixed collection (e.g., coordinates, dictionary keys).\n",
        "* **Performance** → faster and requires less memory than lists.\n",
        "\n",
        "Example:\n",
        "'''\n",
        "\n",
        "coords = (10, 20, 30)\n",
        "# coords[0] = 50  Error: tuples are immutable\n",
        "print(coords)  # (10, 20, 30)\n",
        "\n",
        "\n",
        "#Use lists when data changes, tuples when data must stay fixed.\n",
        "\n"
      ],
      "metadata": {
        "colab": {
          "base_uri": "https://localhost:8080/"
        },
        "id": "4vPQoquddZkE",
        "outputId": "f5acaba3-5cf1-4c34-8340-405fcaf4f924"
      },
      "execution_count": 81,
      "outputs": [
        {
          "output_type": "stream",
          "name": "stdout",
          "text": [
            "[1, 2, 3, 4]\n",
            "(10, 20, 30)\n"
          ]
        }
      ]
    },
    {
      "cell_type": "code",
      "source": [
        "# 4.  Describe how dictionaries store data?\n",
        "\n",
        "'''\n",
        "Dictionaries in Python\n",
        "\n",
        "A dictionary is a built-in mapping data structure that stores data as key–value pairs.\n",
        "\n",
        "Example:\n",
        "'''\n",
        "student = {\"name\": \"Alice\", \"age\": 21, \"grade\": \"A\"}\n",
        "\n",
        "'''\n",
        "How Data Is Stored\n",
        "\n",
        "Hashing –\n",
        "\n",
        "When you insert a key, Python runs it through a hash function → produces an integer (hash value).\n",
        "\n",
        "This hash decides where the key–value pair is stored in memory.\n",
        "\n",
        "Hash Table (Underlying Structure) –\n",
        "\n",
        "The dictionary uses a hash table, which is basically an array of “buckets.”\n",
        "\n",
        "Each bucket stores a reference to a key–value pair.\n",
        "\n",
        "Collision Handling –\n",
        "\n",
        "If two keys produce the same hash, Python handles this with techniques like open addressing or linked entries inside the same bucket.\n",
        "\n",
        "Lookup –\n",
        "\n",
        "To retrieve a value, Python hashes the key again, jumps directly to the right bucket, and returns the value.\n",
        "\n",
        "This makes lookups average O(1) time.\n",
        "'''\n",
        "d = {\"a\": 1, \"b\": 2}\n",
        "print(d[\"a\"])  # Fast O(1) lookup → 1\n",
        "\n",
        "\n",
        "# Why Efficient\n",
        "\n",
        "#Insert, delete, lookup are all constant-time on average.\n",
        "\n",
        "#That’s why dictionaries are heavily used for tasks like symbol tables, caching, and indexing.\n",
        "#In short: Dictionaries use a hash table to map keys to values, giving very fast lookups and updates.\n",
        "\n",
        "\n"
      ],
      "metadata": {
        "colab": {
          "base_uri": "https://localhost:8080/"
        },
        "id": "tnND6BsJej_k",
        "outputId": "abf348ea-8794-4a77-8ee1-99dc55eabaa3"
      },
      "execution_count": 20,
      "outputs": [
        {
          "output_type": "stream",
          "name": "stdout",
          "text": [
            "1\n"
          ]
        }
      ]
    },
    {
      "cell_type": "code",
      "source": [
        "# 5. Why might you use a set instead of a list in Python?\n",
        "'''\n",
        "List\n",
        "\n",
        "Ordered collection (keeps insertion order).\n",
        "\n",
        "Allows duplicates.\n",
        "\n",
        "Searching for an item takes O(n) in the worst case.\n",
        "\n",
        "Set\n",
        "\n",
        "Unordered collection of unique elements.\n",
        "\n",
        "No duplicates allowed.\n",
        "\n",
        "Uses a hash table internally (like dictionaries).\n",
        "\n",
        "Searching, adding, or deleting items is O(1) on average (much faster).\n",
        "'''\n",
        "'''\n",
        "Why Use a Set Instead of a List\n",
        "Fast Membership Testing\n",
        "'''\n",
        "nums = [1, 2, 3, 4]\n",
        "print(4 in nums)   # O(n) scan\n",
        "s = {1, 2, 3, 4}\n",
        "print(4 in s)      # O(1) hash lookup\n",
        "\n",
        "#Automatic Duplicate Removal\n",
        "names = [\"Alice\", \"Bob\", \"Alice\"]\n",
        "unique = set(names)\n",
        "print(unique)  # {'Alice', 'Bob'}\n",
        "\n",
        "#Set Operations (union, intersection, difference) → useful for math-like problems.\n",
        "A = {1, 2, 3}\n",
        "B = {3, 4, 5}\n",
        "print(A & B)  # {3} (intersection)\n",
        "\n",
        "#Use a set when you care about uniqueness and fast membership checks.\n",
        "#Use a list when you care about ordering, indexing, or allowing duplicates.\n"
      ],
      "metadata": {
        "colab": {
          "base_uri": "https://localhost:8080/"
        },
        "id": "KFdBQgPif2-m",
        "outputId": "91de7e20-631c-4698-e864-17786e943a6e"
      },
      "execution_count": 24,
      "outputs": [
        {
          "output_type": "stream",
          "name": "stdout",
          "text": [
            "True\n",
            "True\n",
            "{'Bob', 'Alice'}\n",
            "{3}\n"
          ]
        }
      ]
    },
    {
      "cell_type": "code",
      "source": [
        "# 6. What is a string in Python, and how is it different from a list?\n",
        "\n",
        "'''\n",
        "A string in Python is an immutable sequence of characters (e.g., \"hello\").\n",
        "\n",
        "Differences from a list:\n",
        "\n",
        "Mutability → String  (immutable), List (mutable).\n",
        "\n",
        "Data type → String holds only characters, List can hold any objects.\n",
        "\n",
        "Operations → Both support indexing/slicing, but only lists allow item reassignment or modification.\n",
        "\n",
        "In short: String = immutable text, List = mutable collection.\n",
        "'''"
      ],
      "metadata": {
        "id": "2cqnn3rOg7Hc"
      },
      "execution_count": null,
      "outputs": []
    },
    {
      "cell_type": "code",
      "source": [
        "# 7. How do tuples ensure data integrity in Python?\n",
        "'''\n",
        "Tuples ensure data integrity because they are immutable → once created, their elements cannot be changed, added, or removed.\n",
        "\n",
        "This prevents accidental modifications.\n",
        "\n",
        "Tuples can be safely used as keys in dictionaries or stored in sets.\n",
        "\n",
        "They are ideal for representing fixed collections (e.g., coordinates, database records).\n",
        "\n",
        "In short: Immutability guarantees that tuple data stays consistent and unchanged.\n",
        "'''"
      ],
      "metadata": {
        "id": "YyYwb5_Ghejg"
      },
      "execution_count": null,
      "outputs": []
    },
    {
      "cell_type": "code",
      "source": [
        "# 8 What is a hash table, and how does it relate to dictionaries in Python?\n",
        "\n",
        "'''\n",
        "A hash table is a data structure that stores key–value pairs using a hash function to map keys to memory locations (buckets). This allows fast O(1) average insert, delete, and lookup.\n",
        "\n",
        "In Python, dictionaries are implemented using hash tables → each key is hashed, and the value is stored at the corresponding bucket.\n",
        "\n",
        "In short: A dictionary is Python’s built-in hash table.\n",
        "'''"
      ],
      "metadata": {
        "id": "v_W2yhWJlGRR"
      },
      "execution_count": null,
      "outputs": []
    },
    {
      "cell_type": "code",
      "source": [
        "# 9. Can lists contain different data types in Python?\n",
        "\n",
        "'''\n",
        "Yes.\n",
        "\n",
        "In Python3, a **list can contain elements of different data types** (e.g., integers, strings, floats, even other lists).\n",
        "\n",
        "Example:\n",
        "'''\n",
        "mixed = [1, \"hello\", 3.14, [2, 4]]\n",
        "print(mixed)\n",
        "\n"
      ],
      "metadata": {
        "colab": {
          "base_uri": "https://localhost:8080/"
        },
        "id": "flO8F2J7lFrY",
        "outputId": "4df2ac4d-2a77-4257-f13a-a1ef404389c2"
      },
      "execution_count": 36,
      "outputs": [
        {
          "output_type": "stream",
          "name": "stdout",
          "text": [
            "[1, 'hello', 3.14, [2, 4]]\n"
          ]
        }
      ]
    },
    {
      "cell_type": "code",
      "source": [
        "# 10. Explain why strings are immutable in Python?\n",
        "'''\n",
        "Strings are **immutable in Python** to ensure:\n",
        "\n",
        "1. **Memory efficiency** → Same string values can be reused (string interning).\n",
        "2. **Security** → Prevents accidental or malicious modification of sensitive data (e.g., file paths, keys).\n",
        "3. **Hashability** → Immutable strings can be used as **dictionary keys** and in **sets**.\n",
        "4. **Simplicity in concurrency** → No risk of data changing unexpectedly across threads.\n",
        "\n",
        "In short: **Immutability makes strings safer, reusable, and efficient in Python.**\n",
        "'''"
      ],
      "metadata": {
        "id": "DXl-xflflw-7"
      },
      "execution_count": null,
      "outputs": []
    },
    {
      "cell_type": "code",
      "source": [
        "# 11. What advantages do dictionaries offer over lists for certain tasks?\n",
        "'''\n",
        "**Dictionaries vs Lists**\n",
        "\n",
        " **Advantages of dictionaries**:\n",
        "\n",
        "1. **Fast lookups** → Key-based access is **O(1) average**, vs **O(n)** search in lists.\n",
        "2. **Key–value mapping** → More meaningful than relying on numeric indexes.\n",
        "3. **No duplicates for keys** → Ensures unique identifiers.\n",
        "4. **Flexible keys** → Can use strings, numbers, or tuples as keys (not just positions).\n",
        "\n",
        "In short: **Dictionaries are better when you need quick lookups by a unique key, not just ordered storage.**\n",
        "\n",
        "'''"
      ],
      "metadata": {
        "id": "0Do2oj15lwXl"
      },
      "execution_count": null,
      "outputs": []
    },
    {
      "cell_type": "code",
      "source": [
        "#12.  Describe a scenario where using a tuple would be preferable over a list\n",
        "'''\n",
        "A **tuple** is preferable when the data should be **fixed and unchangeable**.\n",
        "\n",
        "**Scenario**: Storing a person’s **date of birth** → `(1998, 7, 15)`\n",
        "\n",
        "* Birthdates never change.\n",
        "* Using a tuple prevents accidental modification.\n",
        "* It can also be used as a **dictionary key** (lists cannot).\n",
        "\n",
        "In short: **Use a tuple for constant, immutable data like coordinates, dates, or IDs.**\n",
        "\n",
        "'''\n"
      ],
      "metadata": {
        "id": "6NAGa9zBmcS6"
      },
      "execution_count": null,
      "outputs": []
    },
    {
      "cell_type": "code",
      "source": [
        "# 13. How do sets handle duplicate values in Python?\n",
        "'''\n",
        "In Python, sets automatically remove duplicates.\n",
        "\n",
        "When you add a duplicate, it’s ignored.\n",
        "\n",
        "Each element in a set is unique.\n",
        "'''\n",
        "\n",
        "s = {1, 2, 2, 3}\n",
        "print(s)\n",
        "\n",
        "#Sets eliminate duplicates by design"
      ],
      "metadata": {
        "colab": {
          "base_uri": "https://localhost:8080/"
        },
        "id": "IxvO_6ZCnFpi",
        "outputId": "b67838b5-8667-48a4-d012-c4e6d54c8c8e"
      },
      "execution_count": 39,
      "outputs": [
        {
          "output_type": "stream",
          "name": "stdout",
          "text": [
            "{1, 2, 3}\n"
          ]
        }
      ]
    },
    {
      "cell_type": "code",
      "source": [
        "#14. How does the “in” keyword work differently for lists and dictionaries?\n",
        "\n",
        "#In a list → checks if a value exists in the list (linear search, O(n)).\n",
        "nums = [1, 2, 3]\n",
        "print(2 in nums)   # True\n",
        "\n",
        "# In a dictionary → checks if a key exists (hash table lookup, O(1) average).\n",
        "\n",
        "d = {\"a\": 1, \"b\": 2}\n",
        "print(\"a\" in d)    # True (checks keys, not values)\n",
        "print(1 in d)      # False\n"
      ],
      "metadata": {
        "colab": {
          "base_uri": "https://localhost:8080/"
        },
        "id": "M5dPYdM7nWcy",
        "outputId": "954b9333-f0d0-449a-ccd6-841df03ba149"
      },
      "execution_count": 41,
      "outputs": [
        {
          "output_type": "stream",
          "name": "stdout",
          "text": [
            "True\n",
            "True\n",
            "False\n"
          ]
        }
      ]
    },
    {
      "cell_type": "code",
      "source": [
        "#15. Can you modify the elements of a tuple? Explain why or why not?\n",
        "\n",
        "'''No, you **cannot modify elements of a tuple**.\n",
        "\n",
        "Reason: **Tuples are immutable** in Python → once created, their contents cannot be changed, added, or removed. This ensures **data integrity**, allows **safe dictionary keys**, and supports **efficient memory usage**.\n",
        "\n",
        "Example:\n",
        "\n",
        "'''\n",
        "t = (1, 2, 3)\n",
        "t[0] = 10   #  Error: 'tuple' object does not support item assignment\n",
        "```\n",
        "\n",
        "#In short: **Tuples are fixed, immutable collections.**\n"
      ],
      "metadata": {
        "colab": {
          "base_uri": "https://localhost:8080/",
          "height": 106
        },
        "id": "VKRXF1pcn9zU",
        "outputId": "2691574c-0562-4fe6-f3f0-f7ef19761056"
      },
      "execution_count": 83,
      "outputs": [
        {
          "output_type": "error",
          "ename": "SyntaxError",
          "evalue": "invalid syntax (ipython-input-3558876522.py, line 12)",
          "traceback": [
            "\u001b[0;36m  File \u001b[0;32m\"/tmp/ipython-input-3558876522.py\"\u001b[0;36m, line \u001b[0;32m12\u001b[0m\n\u001b[0;31m    ```\u001b[0m\n\u001b[0m    ^\u001b[0m\n\u001b[0;31mSyntaxError\u001b[0m\u001b[0;31m:\u001b[0m invalid syntax\n"
          ]
        }
      ]
    },
    {
      "cell_type": "code",
      "source": [
        "# 16. What is a nested dictionary, and give an example of its use case?\n",
        "'''\n",
        "A **nested dictionary** is a dictionary that contains another dictionary as its value.\n",
        "\n",
        "**Use case**: Representing structured data like a database record, JSON object, or configuration.\n",
        "\n",
        "Example:\n",
        "\n",
        "'''\n",
        "students = {\n",
        "    \"Alice\": {\"age\": 21, \"grade\": \"A\"},\n",
        "    \"Bob\": {\"age\": 22, \"grade\": \"B\"}\n",
        "}\n",
        "print(students[\"Alice\"][\"grade\"])  # A\n",
        "\n",
        "\n",
        "#In short: **Nested dictionaries store hierarchical data (like records within records).**\n"
      ],
      "metadata": {
        "colab": {
          "base_uri": "https://localhost:8080/"
        },
        "id": "DwGbe7EbobBz",
        "outputId": "ac007196-3cdd-4f38-f348-dd3ff139799a"
      },
      "execution_count": 45,
      "outputs": [
        {
          "output_type": "stream",
          "name": "stdout",
          "text": [
            "A\n"
          ]
        }
      ]
    },
    {
      "cell_type": "code",
      "source": [
        "#17. Describe the time complexity of accessing elements in a dictionary.\n",
        "\n",
        "'''\n",
        "Accessing elements in a Python **dictionary** uses a **hash table**.\n",
        "\n",
        "* **Average case** → **O(1)** (constant time) because hashing gives direct access.\n",
        "* **Worst case** → **O(n)** if many collisions occur, but this is very rare.\n",
        "\n",
        "In short: **Dictionary access is typically O(1), very fast.**\n",
        "'''"
      ],
      "metadata": {
        "id": "pYQqeumLo13D"
      },
      "execution_count": null,
      "outputs": []
    },
    {
      "cell_type": "code",
      "source": [
        "#18  In what situations are lists preferred over dictionaries.\n",
        "\n",
        "'''\n",
        " **Lists are preferred when**:\n",
        "\n",
        "1. **Order matters** → lists preserve insertion order and allow indexing/slicing.\n",
        "2. **Duplicate values are needed** → dictionaries don’t allow duplicate keys.\n",
        "3. **Sequential data** → when data is naturally a sequence (e.g., a series of numbers).\n",
        "4. **Memory efficiency** → lists use less memory than dictionaries for simple collections.\n",
        "\n",
        "In short: **Use lists for ordered, sequential, or duplicate data; use dictionaries for fast key-based lookups.**\n",
        "'''"
      ],
      "metadata": {
        "id": "6l-RG4yspIlo"
      },
      "execution_count": null,
      "outputs": []
    },
    {
      "cell_type": "code",
      "source": [
        "#19 Why are dictionaries considered unordered, and how does that affect data retrieval\n",
        "\n",
        "'''\n",
        "Dictionaries are considered **unordered** because their items are stored based on **hash values of keys**, not by insertion index.\n",
        "\n",
        "* The internal order depends on the hash table, not the sequence you add items.\n",
        "* (Since Python 3.7+, insertion order is preserved, but this is an implementation detail, not their core behavior.)\n",
        "\n",
        "**Effect on data retrieval**:\n",
        "\n",
        "* You **cannot access items by position** (e.g., `d[0]`).\n",
        "* You must retrieve values by their **keys**, which is very fast (**O(1)**).\n",
        "\n",
        "In short: **Dictionaries are unordered because they use hashing, so retrieval is by key, not by position.**\n",
        "'''"
      ],
      "metadata": {
        "id": "IQnZIRynpXRc"
      },
      "execution_count": null,
      "outputs": []
    },
    {
      "cell_type": "code",
      "source": [
        "#20. Explain the difference between a list and a dictionary in terms of data retrieval.\n",
        "\n",
        "'''\n",
        "* **List** → Retrieval is by **index/position** (e.g., `mylist[2]`), takes **O(1)** but requires knowing the position. Searching by value is **O(n)**.\n",
        "\n",
        "* **Dictionary** → Retrieval is by **key** (e.g., `mydict[\"name\"]`), uses a **hash table**, and is **O(1) average**.\n",
        "\n",
        "In short: **Lists retrieve by position, dictionaries retrieve by key (faster for lookups).**\n",
        "'''"
      ],
      "metadata": {
        "id": "4o30m_iOpiwu"
      },
      "execution_count": null,
      "outputs": []
    },
    {
      "cell_type": "markdown",
      "source": [
        "# Practical questions\n"
      ],
      "metadata": {
        "id": "c87kBbsLlJlo"
      }
    },
    {
      "cell_type": "code",
      "source": [
        "# 1. Write a code to create a string with your name and print it\n",
        "\n",
        "name = \"Alice\"\n",
        "print(name)\n"
      ],
      "metadata": {
        "colab": {
          "base_uri": "https://localhost:8080/"
        },
        "id": "X41FZfnup6N_",
        "outputId": "ad4909ba-eb87-4674-f025-caad8aac9ca6"
      },
      "execution_count": 46,
      "outputs": [
        {
          "output_type": "stream",
          "name": "stdout",
          "text": [
            "Alice\n"
          ]
        }
      ]
    },
    {
      "cell_type": "code",
      "source": [
        "# 2. Write a code to find the length of the string \"Hello World\"\n",
        "\n",
        "text = \"Hello World\"\n",
        "print(len(text))\n"
      ],
      "metadata": {
        "colab": {
          "base_uri": "https://localhost:8080/"
        },
        "id": "dLCMNJGAp5wu",
        "outputId": "51db3298-80e2-4eeb-ec5a-df71c0ed2b48"
      },
      "execution_count": 47,
      "outputs": [
        {
          "output_type": "stream",
          "name": "stdout",
          "text": [
            "11\n"
          ]
        }
      ]
    },
    {
      "cell_type": "code",
      "source": [
        "#3.  Write a code to slice the first 3 characters from the string \"Python Programming\"\n",
        "text = \"Python Programming\"\n",
        "print(text[:3])\n"
      ],
      "metadata": {
        "colab": {
          "base_uri": "https://localhost:8080/"
        },
        "id": "rgj3rsTYqvxu",
        "outputId": "f9aa7b2c-9800-47ac-c71c-5d40a7b384ef"
      },
      "execution_count": 48,
      "outputs": [
        {
          "output_type": "stream",
          "name": "stdout",
          "text": [
            "Pyt\n"
          ]
        }
      ]
    },
    {
      "cell_type": "code",
      "source": [
        "# 4. Write a code to convert the string \"hello\" to uppercaseP\n",
        "\n",
        "text = \"hello\"\n",
        "print(text.upper())\n"
      ],
      "metadata": {
        "colab": {
          "base_uri": "https://localhost:8080/"
        },
        "id": "pubMbbDvrMO1",
        "outputId": "2c36b2bd-14fd-44a2-d693-468cad295960"
      },
      "execution_count": 49,
      "outputs": [
        {
          "output_type": "stream",
          "name": "stdout",
          "text": [
            "HELLO\n"
          ]
        }
      ]
    },
    {
      "cell_type": "code",
      "source": [
        "# 5. Write a code to replace the word \"apple\" with \"orange\" in the string \"I like apple\"\n",
        "\n",
        "text = \"I like apple\"\n",
        "print(text.replace(\"apple\", \"orange\"))\n"
      ],
      "metadata": {
        "colab": {
          "base_uri": "https://localhost:8080/"
        },
        "id": "t8n8OLZtrU8A",
        "outputId": "3a30629e-725c-459b-8a7f-55e7efb7045c"
      },
      "execution_count": 50,
      "outputs": [
        {
          "output_type": "stream",
          "name": "stdout",
          "text": [
            "I like orange\n"
          ]
        }
      ]
    },
    {
      "cell_type": "code",
      "source": [
        "# 6. Write a code to create a list with numbers 1 to 5 and print itP\n",
        "nums = [1, 2, 3, 4, 5]\n",
        "print(nums)\n",
        ""
      ],
      "metadata": {
        "colab": {
          "base_uri": "https://localhost:8080/"
        },
        "id": "oKYopfbGrUvR",
        "outputId": "4c3ffb3c-a0f2-4dc5-ddc8-d90b7714c8b0"
      },
      "execution_count": 51,
      "outputs": [
        {
          "output_type": "stream",
          "name": "stdout",
          "text": [
            "[1, 2, 3, 4, 5]\n"
          ]
        }
      ]
    },
    {
      "cell_type": "code",
      "source": [
        "# 7. Write a code to append the number 10 to the list [1, 2, 3, 4]\n",
        "\n",
        "nums = [1, 2, 3, 4]\n",
        "nums.append(10)\n",
        "print(nums)\n"
      ],
      "metadata": {
        "colab": {
          "base_uri": "https://localhost:8080/"
        },
        "id": "Jkq-jTMTrnzU",
        "outputId": "65c6aa83-79bb-499d-8a3e-cd648b29ec4f"
      },
      "execution_count": 52,
      "outputs": [
        {
          "output_type": "stream",
          "name": "stdout",
          "text": [
            "[1, 2, 3, 4, 10]\n"
          ]
        }
      ]
    },
    {
      "cell_type": "code",
      "source": [
        "# 8. Write a code to remove the number 3 from the list [1, 2, 3, 4, 5]?\n",
        "\n",
        "nums = [1, 2, 3, 4, 5]\n",
        "nums.remove(3)\n",
        "print(nums)\n"
      ],
      "metadata": {
        "colab": {
          "base_uri": "https://localhost:8080/"
        },
        "id": "r86t9z1Mhzg0",
        "outputId": "139ea600-7113-4910-d918-edb952376e8f"
      },
      "execution_count": 26,
      "outputs": [
        {
          "output_type": "stream",
          "name": "stdout",
          "text": [
            "[1, 2, 4, 5]\n"
          ]
        }
      ]
    },
    {
      "cell_type": "code",
      "source": [
        "# 9. Write a code to access the second element in the list ['a', 'b', 'c', 'd']?\n",
        "letters = ['a', 'b', 'c', 'd']\n",
        "print(letters[1])\n"
      ],
      "metadata": {
        "colab": {
          "base_uri": "https://localhost:8080/"
        },
        "id": "hVUpm8axiLno",
        "outputId": "5f613e45-392b-432e-cf2a-aae94ae3298f"
      },
      "execution_count": 27,
      "outputs": [
        {
          "output_type": "stream",
          "name": "stdout",
          "text": [
            "b\n"
          ]
        }
      ]
    },
    {
      "cell_type": "code",
      "source": [
        "# 10. Write a code to reverse the list [10, 20, 30, 40, 50].\n",
        "nums = [10, 20, 30, 40, 50]\n",
        "nums.reverse()\n",
        "print(nums)\n"
      ],
      "metadata": {
        "colab": {
          "base_uri": "https://localhost:8080/"
        },
        "id": "Owr4IzF3iZzI",
        "outputId": "e5f5e36c-4083-4a01-dd88-ddacc376f9de"
      },
      "execution_count": 28,
      "outputs": [
        {
          "output_type": "stream",
          "name": "stdout",
          "text": [
            "[50, 40, 30, 20, 10]\n"
          ]
        }
      ]
    },
    {
      "cell_type": "code",
      "source": [
        "# 11. Write a code to create a tuple with the elements 100, 200, 300 and print it.\n",
        "\n",
        "t = (100, 200, 300)\n",
        "print(t)\n"
      ],
      "metadata": {
        "colab": {
          "base_uri": "https://localhost:8080/"
        },
        "id": "BlY1KrgYimRl",
        "outputId": "aaaafb67-7a61-4751-e394-edb5f61115ef"
      },
      "execution_count": 29,
      "outputs": [
        {
          "output_type": "stream",
          "name": "stdout",
          "text": [
            "(100, 200, 300)\n"
          ]
        }
      ]
    },
    {
      "cell_type": "code",
      "source": [
        "#12. Write a code to access the second-to-last element of the tuple ('red', 'green', 'blue', 'yellow').\n",
        "\n",
        "colors = ('red', 'green', 'blue', 'yellow')\n",
        "print(colors[-2])\n"
      ],
      "metadata": {
        "colab": {
          "base_uri": "https://localhost:8080/"
        },
        "id": "zcX3dSfRi7Me",
        "outputId": "83737371-a55d-4088-c415-7ffd7de8cecd"
      },
      "execution_count": 30,
      "outputs": [
        {
          "output_type": "stream",
          "name": "stdout",
          "text": [
            "blue\n"
          ]
        }
      ]
    },
    {
      "cell_type": "code",
      "source": [
        "# 13. Write a code to find the minimum number in the tuple (10, 20, 5, 15).\n",
        "\n",
        "nums = (10, 20, 5, 15)\n",
        "print(min(nums))\n"
      ],
      "metadata": {
        "colab": {
          "base_uri": "https://localhost:8080/"
        },
        "id": "urOOpdOCjH_j",
        "outputId": "b961dff8-c5a1-4c4a-e55a-4167e1aeaf0b"
      },
      "execution_count": 31,
      "outputs": [
        {
          "output_type": "stream",
          "name": "stdout",
          "text": [
            "5\n"
          ]
        }
      ]
    },
    {
      "cell_type": "code",
      "source": [
        "#14. Write a code to find the index of the element \"cat\" in the tuple ('dog', 'cat', 'rabbit')\n",
        "animals = ('dog', 'cat', 'rabbit')\n",
        "print(animals.index(\"cat\"))\n"
      ],
      "metadata": {
        "colab": {
          "base_uri": "https://localhost:8080/"
        },
        "id": "n4Ndwj8qjRr9",
        "outputId": "210fc3b5-488a-440d-d795-81c4f664432b"
      },
      "execution_count": 32,
      "outputs": [
        {
          "output_type": "stream",
          "name": "stdout",
          "text": [
            "1\n"
          ]
        }
      ]
    },
    {
      "cell_type": "code",
      "source": [
        "#15. Write a code to create a tuple containing three different fruits and check if \"kiwi\" is in it.\n",
        "fruits = (\"apple\", \"banana\", \"orange\")\n",
        "print(\"kiwi\" in fruits)\n"
      ],
      "metadata": {
        "colab": {
          "base_uri": "https://localhost:8080/"
        },
        "id": "ih8ph2LDjcgq",
        "outputId": "f62e7570-4b9f-470a-d154-b32108820601"
      },
      "execution_count": 33,
      "outputs": [
        {
          "output_type": "stream",
          "name": "stdout",
          "text": [
            "False\n"
          ]
        }
      ]
    },
    {
      "cell_type": "code",
      "source": [
        "#16. Write a code to create a set with the elements 'a', 'b', 'c' and print it.\n",
        "\n",
        "s = {'a', 'b', 'c'}\n",
        "print(s)"
      ],
      "metadata": {
        "colab": {
          "base_uri": "https://localhost:8080/"
        },
        "id": "AQZAivOZjiyy",
        "outputId": "6d214598-fd80-42d4-e238-2905f64df38b"
      },
      "execution_count": 53,
      "outputs": [
        {
          "output_type": "stream",
          "name": "stdout",
          "text": [
            "{'a', 'b', 'c'}\n"
          ]
        }
      ]
    },
    {
      "cell_type": "code",
      "source": [
        "# 17 Write a code to clear all elements from the set {1, 2, 3, 4, 5}.\n",
        "\n",
        "s = {1, 2, 3, 4, 5}\n",
        "s.clear()\n",
        "print(s)"
      ],
      "metadata": {
        "colab": {
          "base_uri": "https://localhost:8080/"
        },
        "id": "taM5GQGFsxd6",
        "outputId": "cfecadf9-9dde-47c6-d339-bcb384eb94f8"
      },
      "execution_count": 56,
      "outputs": [
        {
          "output_type": "stream",
          "name": "stdout",
          "text": [
            "set()\n"
          ]
        }
      ]
    },
    {
      "cell_type": "code",
      "source": [
        "# 18. Write a code to remove the element 4 from the set {1, 2, 3, 4}.\n",
        "\n",
        "s = {1, 2, 3, 4}\n",
        "s.remove(4)\n",
        "print(s)"
      ],
      "metadata": {
        "colab": {
          "base_uri": "https://localhost:8080/"
        },
        "id": "Z12MktZctZTe",
        "outputId": "478fa31c-5c99-4495-9acd-91160b180be0"
      },
      "execution_count": 57,
      "outputs": [
        {
          "output_type": "stream",
          "name": "stdout",
          "text": [
            "{1, 2, 3}\n"
          ]
        }
      ]
    },
    {
      "cell_type": "code",
      "source": [
        "# 19. Write a code to find the union of two sets {1, 2, 3} and {3, 4, 5}.\n",
        "\n",
        "a = {1, 2, 3}\n",
        "b = {3, 4, 5}\n",
        "print(a | b)\n",
        "\n"
      ],
      "metadata": {
        "colab": {
          "base_uri": "https://localhost:8080/"
        },
        "id": "1EdGZcPGtZ5H",
        "outputId": "83f8894f-c612-4a04-ab35-9d36ff1522c7"
      },
      "execution_count": 61,
      "outputs": [
        {
          "output_type": "stream",
          "name": "stdout",
          "text": [
            "{1, 2, 3, 4, 5}\n"
          ]
        }
      ]
    },
    {
      "cell_type": "code",
      "source": [
        "# 20. Write a code to find the intersection of two sets {1, 2, 3} and {2, 3, 4}.\n",
        "\n",
        "a = {1, 2, 3}\n",
        "b = {2, 3, 4}\n",
        "print(a & b)"
      ],
      "metadata": {
        "colab": {
          "base_uri": "https://localhost:8080/"
        },
        "id": "GTZTAz6VuPcA",
        "outputId": "496e11df-0997-47dc-9421-4941aeb196d0"
      },
      "execution_count": 62,
      "outputs": [
        {
          "output_type": "stream",
          "name": "stdout",
          "text": [
            "{2, 3}\n"
          ]
        }
      ]
    },
    {
      "cell_type": "code",
      "source": [
        "#21. Write a code to create a dictionary with the keys \"name\", \"age\", and \"city\", and print it.\n",
        "\n",
        "d = {\"name\": \"Alice\", \"age\": 21, \"city\": \"New York\"}\n",
        "print(d)"
      ],
      "metadata": {
        "colab": {
          "base_uri": "https://localhost:8080/"
        },
        "id": "5R8x-T8dubox",
        "outputId": "e846de92-66d6-46a5-e330-30b03f9c5c3c"
      },
      "execution_count": 63,
      "outputs": [
        {
          "output_type": "stream",
          "name": "stdout",
          "text": [
            "{'name': 'Alice', 'age': 21, 'city': 'New York'}\n"
          ]
        }
      ]
    },
    {
      "cell_type": "code",
      "source": [
        "#22. Write a code to add a new key-value pair \"country\": \"USA\" to the dictionary {'name': 'John', 'age': 25}.\n",
        "\n",
        "d = {'name': 'John', 'age': 25}\n",
        "d[\"country\"] = \"USA\"\n",
        "print(d)"
      ],
      "metadata": {
        "colab": {
          "base_uri": "https://localhost:8080/"
        },
        "id": "uvQ66jYIubbZ",
        "outputId": "ff7f3861-3056-41d8-aa07-fd0baaf15ad9"
      },
      "execution_count": 64,
      "outputs": [
        {
          "output_type": "stream",
          "name": "stdout",
          "text": [
            "{'name': 'John', 'age': 25, 'country': 'USA'}\n"
          ]
        }
      ]
    },
    {
      "cell_type": "code",
      "source": [
        "#23. Write a code to access the value associated with the key \"name\" in the dictionary {'name': 'Alice', 'age': 30}.\n",
        "\n",
        "d = {'name': 'Alice', 'age': 30}\n",
        "print(d[\"name\"])"
      ],
      "metadata": {
        "colab": {
          "base_uri": "https://localhost:8080/"
        },
        "id": "KVy2u6i3uq5z",
        "outputId": "53ce4228-6453-4cfd-c680-3fd90d5fe1cf"
      },
      "execution_count": 65,
      "outputs": [
        {
          "output_type": "stream",
          "name": "stdout",
          "text": [
            "Alice\n"
          ]
        }
      ]
    },
    {
      "cell_type": "code",
      "source": [
        "#24. Write a code to remove the key \"age\" from the dictionary {'name': 'Bob', 'age': 22, 'city': 'New York'}.\n",
        "\n",
        "d = {'name': 'Bob', 'age': 22, 'city': 'New York'}\n",
        "del d[\"age\"]\n",
        "print(d)"
      ],
      "metadata": {
        "colab": {
          "base_uri": "https://localhost:8080/"
        },
        "id": "47c4kjPHu4or",
        "outputId": "730b10d4-9071-4870-92cc-580a891d81a1"
      },
      "execution_count": 66,
      "outputs": [
        {
          "output_type": "stream",
          "name": "stdout",
          "text": [
            "{'name': 'Bob', 'city': 'New York'}\n"
          ]
        }
      ]
    },
    {
      "cell_type": "code",
      "source": [
        "#25. Write a code to check if the key \"city\" exists in the dictionary {'name': 'Alice', 'city': 'Paris'}.\n",
        "\n",
        "d = {'name': 'Alice', 'city': 'Paris'}\n",
        "print(\"city\" in d)"
      ],
      "metadata": {
        "colab": {
          "base_uri": "https://localhost:8080/"
        },
        "id": "Tut2QuDSu_fD",
        "outputId": "311b6844-2fdb-4e9c-fcff-f714cf53e982"
      },
      "execution_count": 67,
      "outputs": [
        {
          "output_type": "stream",
          "name": "stdout",
          "text": [
            "True\n"
          ]
        }
      ]
    },
    {
      "cell_type": "code",
      "source": [
        "#26 Write a code to create a list, a tuple, and a dictionary, and print them all.\n",
        "\n",
        "my_list = [1, 2, 3]\n",
        "my_tuple = (4, 5, 6)\n",
        "my_dict = {\"a\": 7, \"b\": 8}\n",
        "\n",
        "print(my_list)\n",
        "print(my_tuple)\n",
        "print(my_dict)\n"
      ],
      "metadata": {
        "colab": {
          "base_uri": "https://localhost:8080/"
        },
        "id": "7sEijksTvGjY",
        "outputId": "ea4c0bfa-db22-4eb7-ffeb-959e3244613b"
      },
      "execution_count": 68,
      "outputs": [
        {
          "output_type": "stream",
          "name": "stdout",
          "text": [
            "[1, 2, 3]\n",
            "(4, 5, 6)\n",
            "{'a': 7, 'b': 8}\n"
          ]
        }
      ]
    },
    {
      "cell_type": "code",
      "source": [
        "#27 Write a code to create a list of 5 random numbers between 1 and 100, sort it in ascending order, and print the result.(replaced)\n",
        "\n",
        "import random\n",
        "\n",
        "nums = random.sample(range(1, 101), 5)\n",
        "nums.sort()\n",
        "print(nums)\n"
      ],
      "metadata": {
        "colab": {
          "base_uri": "https://localhost:8080/"
        },
        "id": "ODQig_Acva9k",
        "outputId": "652ccedb-0004-4eb6-b1dc-ccc4ba9d1500"
      },
      "execution_count": 69,
      "outputs": [
        {
          "output_type": "stream",
          "name": "stdout",
          "text": [
            "[1, 14, 22, 35, 74]\n"
          ]
        }
      ]
    },
    {
      "cell_type": "code",
      "source": [
        "# 28. Write a code to create a list with strings and print the element at the third index.\n",
        "\n",
        "strings = [\"apple\", \"banana\", \"cherry\", \"date\"]\n",
        "print(strings[2])\n"
      ],
      "metadata": {
        "colab": {
          "base_uri": "https://localhost:8080/"
        },
        "id": "r4-iSE1Zvvyb",
        "outputId": "44d0d12d-7484-4cd3-b643-90874ef9ac3f"
      },
      "execution_count": 71,
      "outputs": [
        {
          "output_type": "stream",
          "name": "stdout",
          "text": [
            "cherry\n"
          ]
        }
      ]
    },
    {
      "cell_type": "code",
      "source": [
        "# 29. Write a code to combine two dictionaries into one and print the result.\n",
        "\n",
        "dict1 = {\"a\": 1, \"b\": 2}\n",
        "dict2 = {\"c\": 3, \"d\": 4}\n",
        "\n",
        "combined = {**dict1, **dict2}\n",
        "print(combined)\n",
        "\n"
      ],
      "metadata": {
        "colab": {
          "base_uri": "https://localhost:8080/"
        },
        "id": "dwmzj_Ofv2pu",
        "outputId": "d01783f9-ff2b-4343-8e21-e7f375f45831"
      },
      "execution_count": 73,
      "outputs": [
        {
          "output_type": "stream",
          "name": "stdout",
          "text": [
            "{'a': 1, 'b': 2, 'c': 3, 'd': 4}\n"
          ]
        }
      ]
    },
    {
      "cell_type": "code",
      "source": [
        "# 30. Write a code to convert a list of strings into a set.\n",
        "words = [\"apple\", \"banana\", \"apple\", \"cherry\"]\n",
        "word_set = set(words)\n",
        "print(word_set)\n"
      ],
      "metadata": {
        "colab": {
          "base_uri": "https://localhost:8080/"
        },
        "id": "9oIe5D52wIol",
        "outputId": "bb8f8556-9752-4d03-ed53-5dbdfc1630c3"
      },
      "execution_count": 74,
      "outputs": [
        {
          "output_type": "stream",
          "name": "stdout",
          "text": [
            "{'apple', 'banana', 'cherry'}\n"
          ]
        }
      ]
    }
  ]
}